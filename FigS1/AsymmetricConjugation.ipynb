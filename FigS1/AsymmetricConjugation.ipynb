{
 "cells": [
  {
   "cell_type": "code",
   "execution_count": 21,
   "metadata": {},
   "outputs": [],
   "source": [
    "import matplotlib.pyplot as plt\n",
    "import numpy as np\n",
    "import scipy as sp\n",
    "from scipy.integrate import solve_ivp\n",
    "import seaborn as sns"
   ]
  },
  {
   "cell_type": "code",
   "execution_count": 22,
   "metadata": {},
   "outputs": [],
   "source": [
    "global mu10,mu20,mu1,mu2,gamma,D,eta,kappa"
   ]
  },
  {
   "cell_type": "code",
   "execution_count": 23,
   "metadata": {},
   "outputs": [],
   "source": [
    "def TwoSpeciesHGT(t,y):\n",
    "    s1=y[0]\n",
    "    s2=y[1]\n",
    "    p1=y[2]\n",
    "    p2=y[3]\n",
    "    lambda1=mu1/mu10-1\n",
    "    lambda2=mu2/mu20-1\n",
    "    dydt=[mu1/s1*(s1+lambda2*p1)*s1*(1-s1-gamma*s2)-D*s1,\n",
    "        mu2/s2*(s2+lambda1*p2)*s2*(1-gamma*s1-s2)-D*s2,\n",
    "        mu1*(1+lambda2)*p1*(1-s1-gamma*s2)+eta[0]*(s2+p1)*(s1-p1)-kappa*p1-D*p1,\n",
    "        mu2*(1+lambda1)*p2*(1-gamma*s1-s2)+eta[1]*(s1+p2)*(s2-p2)-kappa*p2-D*p2]\n",
    "    return dydt"
   ]
  },
  {
   "cell_type": "code",
   "execution_count": 24,
   "metadata": {},
   "outputs": [],
   "source": [
    "gammas=np.arange(1.4,2,0.2)\n",
    "eta1s=np.arange(0,0.5,0.1)\n",
    "Feasi=np.zeros((len(gammas),len(eta1s)))\n",
    "kappa=0.005\n",
    "D=0.2\n",
    "mu1s=np.random.rand(100)\n",
    "mu2s=np.random.rand(len(mu1s))\n",
    "mu10=0.5\n",
    "mu20=0.5\n",
    "num=200\n",
    "timespan=np.arange(0,300.1,0.1)\n",
    "\n",
    "\n",
    "thresh=0.02"
   ]
  },
  {
   "cell_type": "code",
   "execution_count": 25,
   "metadata": {},
   "outputs": [
    {
     "name": "stdout",
     "output_type": "stream",
     "text": [
      "0\n",
      "0\n",
      "1\n",
      "2\n",
      "3\n",
      "4\n",
      "1\n",
      "0\n",
      "1\n",
      "2\n",
      "3\n",
      "4\n",
      "2\n",
      "0\n",
      "1\n",
      "2\n",
      "3\n",
      "4\n",
      "3\n",
      "0\n",
      "1\n",
      "2\n",
      "3\n",
      "4\n"
     ]
    }
   ],
   "source": [
    "for fg in range(len(gammas)):\n",
    "    gamma=gammas[fg]\n",
    "    print(fg)\n",
    "    for sd in range(len(eta1s)):\n",
    "        eta=[eta1s[sd],eta1s[sd]/2]\n",
    "        print(sd)\n",
    "        S1AbunHGT=np.zeros((len(mu1s),num))\n",
    "        S2AbunHGT=np.zeros((len(mu1s),num))\n",
    "        for i in range(len(mu1s)):\n",
    "            mu1=mu1s[i]\n",
    "            mu2=mu2s[i]\n",
    "            for k in range(num):\n",
    "                temp1=np.random.rand()\n",
    "                temp2=np.random.rand()\n",
    "                initialHGT=[temp1,temp2,0,0]\n",
    "                sol=solve_ivp(TwoSpeciesHGT,[0,max(timespan)],initialHGT,method='RK45',t_eval=timespan)\n",
    "                y2=np.transpose(sol.y)\n",
    "                S1AbunHGT[i,k]=y2[-1,0]\n",
    "                S2AbunHGT[i,k]=y2[-1,1]\n",
    "        XX=S1AbunHGT\n",
    "        YY=S2AbunHGT\n",
    "        for i in range(len(mu1s)):\n",
    "            if max(XX[i,:])-min(XX[i,:])>thresh and max(YY[i,:])-min(YY[i,:])>thresh:\n",
    "                Feasi[fg,sd]=Feasi[fg,sd]+1"
   ]
  },
  {
   "cell_type": "code",
   "execution_count": 28,
   "metadata": {},
   "outputs": [
    {
     "data": {
      "image/png": "[encoded data removed]",
      "text/plain": [
       "<Figure size 200x200 with 1 Axes>"
      ]
     },
     "metadata": {},
     "output_type": "display_data"
    }
   ],
   "source": [
    "plt.figure(figsize=(2,2))\n",
    "for i in range(len(gammas)):\n",
    "    plt.plot(eta1s,Feasi[i,:]/len(mu1s),'o-',markersize=10,fillstyle='none')\n",
    "plt.xlabel('HGT rate',fontsize=16)\n",
    "plt.ylabel('bistability region',fontsize=16)\n",
    "#plt.xlim([0,max(etas)])\n",
    "plt.ylim([0.3,0.6])\n",
    "ax=plt.gca()\n",
    "ax.spines[['top', 'right']].set_visible(False)\n",
    "plt.tick_params(direction='in')\n",
    "plt.savefig('AsymmetricConjugation.pdf')\n",
    "plt.savefig('AsymmetricConjugation.jpg',dpi=1000)\n",
    "plt.show()"
   ]
  }
 ],
 "metadata": {
  "kernelspec": {
   "display_name": "Python 3",
   "language": "python",
   "name": "python3"
  },
  "language_info": {
   "codemirror_mode": {
    "name": "ipython",
    "version": 3
   },
   "file_extension": ".py",
   "mimetype": "text/x-python",
   "name": "python",
   "nbconvert_exporter": "python",
   "pygments_lexer": "ipython3",
   "version": "3.11.3"
  }
 },
 "nbformat": 4,
 "nbformat_minor": 2
}
