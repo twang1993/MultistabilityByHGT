{
 "cells": [
  {
   "cell_type": "code",
   "execution_count": 368,
   "metadata": {},
   "outputs": [],
   "source": [
    "import matplotlib.pyplot as plt\n",
    "import numpy as np\n",
    "import scipy as sp\n",
    "from scipy.integrate import solve_ivp\n",
    "from math import dist\n",
    "import pandas as pd"
   ]
  },
  {
   "cell_type": "code",
   "execution_count": 369,
   "metadata": {},
   "outputs": [],
   "source": [
    "global NumSpecies,mu,lambdaa,gamma,delta,D,eta,kappa,Ip,Nm"
   ]
  },
  {
   "cell_type": "code",
   "execution_count": 370,
   "metadata": {},
   "outputs": [],
   "source": [
    "def MultiSpecies(t,y):\n",
    "    dydt=np.zeros(NumSpecies*(1+NumSpecies))\n",
    "    for i in range(NumSpecies):\n",
    "        if y[i]==0:\n",
    "            dydt[i]=Ip[i]\n",
    "            for j in range(NumSpecies):\n",
    "                dydt[NumSpecies+i*NumSpecies+j]=0\n",
    "        else:\n",
    "            ss=1\n",
    "            sumy_neg=0\n",
    "            sumy_pos=0\n",
    "            for j in range(NumSpecies):\n",
    "                if i!=j:\n",
    "                    ss=ss*(1+lambdaa[j]*y[NumSpecies+i*NumSpecies+j]/y[i])\n",
    "                if gamma[j,i]<0:\n",
    "                    sumy_neg=sumy_neg+gamma[j,i]*y[j]\n",
    "                if gamma[j,i]>0:\n",
    "                    sumy_pos=sumy_pos+gamma[j,i]*y[j]\n",
    "            dydt[i]=mu[i]*y[i]*ss*(1+sumy_neg/Nm[i]+delta[i]*sumy_pos/(1+sumy_pos)/Nm[i])-D*y[i]+Ip[i]\n",
    "            for j in range(NumSpecies):\n",
    "                if j==i:\n",
    "                    dydt[NumSpecies+i*NumSpecies+j]=dydt[i]\n",
    "                else:\n",
    "                    ss=1\n",
    "                    for k in range(NumSpecies):\n",
    "                        if k!=i and k!=j:\n",
    "                            ss=ss*(1+lambdaa[k]*y[NumSpecies+i*NumSpecies+k]/y[i])\n",
    "                    donor=0\n",
    "                    for k in range(NumSpecies):\n",
    "                        donor=donor+y[NumSpecies+k*NumSpecies+j]\n",
    "                    dydt[NumSpecies+i*NumSpecies+j]=mu[i]*y[NumSpecies+i*NumSpecies+j]*ss*(1+lambdaa[j])*(1+sumy_neg/Nm[i]+delta[i]*sumy_pos/(1+sumy_pos)/Nm[i])+eta*(y[i]-y[NumSpecies+i*NumSpecies+j])*donor-(kappa+D)*y[NumSpecies+i*NumSpecies+j]\n",
    "    return dydt"
   ]
  },
  {
   "cell_type": "code",
   "execution_count": 371,
   "metadata": {},
   "outputs": [],
   "source": [
    "NumSpecies=20\n",
    "mu0=0.5\n",
    "etas=[0,0.2]\n",
    "repeat=100\n",
    "Ip=0*np.ones(NumSpecies)\n",
    "delta=0.2*np.ones(NumSpecies)\n",
    "kappa=0.005\n",
    "D=0.2\n",
    "thresh=0.05"
   ]
  },
  {
   "cell_type": "code",
   "execution_count": 372,
   "metadata": {},
   "outputs": [
    {
     "name": "stdout",
     "output_type": "stream",
     "text": [
      "0\n",
      "1\n"
     ]
    },
    {
     "ename": "KeyboardInterrupt",
     "evalue": "",
     "output_type": "error",
     "traceback": [
      "\u001b[1;31m---------------------------------------------------------------------------\u001b[0m",
      "\u001b[1;31mKeyboardInterrupt\u001b[0m                         Traceback (most recent call last)",
      "\u001b[1;32mc:\\Users\\tengw\\Nutstore\\1\\MultiStability\\FigS2\\NicheExample\\NicheExample.ipynb Cell 5\u001b[0m line \u001b[0;36m4\n\u001b[0;32m     <a href='vscode-notebook-cell:/c%3A/Users/tengw/Nutstore/1/MultiStability/FigS2/NicheExample/NicheExample.ipynb#W5sZmlsZQ%3D%3D?line=37'>38</a>\u001b[0m     initial[j]\u001b[39m=\u001b[39mnp\u001b[39m.\u001b[39mrandom\u001b[39m.\u001b[39mrand()\u001b[39m#*2/NumSpecies\u001b[39;00m\n\u001b[0;32m     <a href='vscode-notebook-cell:/c%3A/Users/tengw/Nutstore/1/MultiStability/FigS2/NicheExample/NicheExample.ipynb#W5sZmlsZQ%3D%3D?line=38'>39</a>\u001b[0m     initial[NumSpecies\u001b[39m+\u001b[39mj\u001b[39m*\u001b[39mNumSpecies\u001b[39m+\u001b[39mj]\u001b[39m=\u001b[39minitial[j]          \n\u001b[1;32m---> <a href='vscode-notebook-cell:/c%3A/Users/tengw/Nutstore/1/MultiStability/FigS2/NicheExample/NicheExample.ipynb#W5sZmlsZQ%3D%3D?line=39'>40</a>\u001b[0m sol\u001b[39m=\u001b[39msolve_ivp(MultiSpecies,[\u001b[39m0\u001b[39;49m,\u001b[39mmax\u001b[39;49m(timespan)],initial,method\u001b[39m=\u001b[39;49m\u001b[39m'\u001b[39;49m\u001b[39mRK45\u001b[39;49m\u001b[39m'\u001b[39;49m,t_eval\u001b[39m=\u001b[39;49mtimespan)\n\u001b[0;32m     <a href='vscode-notebook-cell:/c%3A/Users/tengw/Nutstore/1/MultiStability/FigS2/NicheExample/NicheExample.ipynb#W5sZmlsZQ%3D%3D?line=40'>41</a>\u001b[0m y\u001b[39m=\u001b[39mnp\u001b[39m.\u001b[39mtranspose(sol\u001b[39m.\u001b[39my)\n\u001b[0;32m     <a href='vscode-notebook-cell:/c%3A/Users/tengw/Nutstore/1/MultiStability/FigS2/NicheExample/NicheExample.ipynb#W5sZmlsZQ%3D%3D?line=41'>42</a>\u001b[0m temp\u001b[39m=\u001b[39my[\u001b[39m-\u001b[39m\u001b[39m1\u001b[39m,\u001b[39mrange\u001b[39m(NumSpecies)]\n",
      "File \u001b[1;32mc:\\Users\\tengw\\AppData\\Local\\Programs\\Python\\Python311\\Lib\\site-packages\\scipy\\integrate\\_ivp\\ivp.py:591\u001b[0m, in \u001b[0;36msolve_ivp\u001b[1;34m(fun, t_span, y0, method, t_eval, dense_output, events, vectorized, args, **options)\u001b[0m\n\u001b[0;32m    589\u001b[0m status \u001b[39m=\u001b[39m \u001b[39mNone\u001b[39;00m\n\u001b[0;32m    590\u001b[0m \u001b[39mwhile\u001b[39;00m status \u001b[39mis\u001b[39;00m \u001b[39mNone\u001b[39;00m:\n\u001b[1;32m--> 591\u001b[0m     message \u001b[39m=\u001b[39m solver\u001b[39m.\u001b[39;49mstep()\n\u001b[0;32m    593\u001b[0m     \u001b[39mif\u001b[39;00m solver\u001b[39m.\u001b[39mstatus \u001b[39m==\u001b[39m \u001b[39m'\u001b[39m\u001b[39mfinished\u001b[39m\u001b[39m'\u001b[39m:\n\u001b[0;32m    594\u001b[0m         status \u001b[39m=\u001b[39m \u001b[39m0\u001b[39m\n",
      "File \u001b[1;32mc:\\Users\\tengw\\AppData\\Local\\Programs\\Python\\Python311\\Lib\\site-packages\\scipy\\integrate\\_ivp\\base.py:181\u001b[0m, in \u001b[0;36mOdeSolver.step\u001b[1;34m(self)\u001b[0m\n\u001b[0;32m    179\u001b[0m \u001b[39melse\u001b[39;00m:\n\u001b[0;32m    180\u001b[0m     t \u001b[39m=\u001b[39m \u001b[39mself\u001b[39m\u001b[39m.\u001b[39mt\n\u001b[1;32m--> 181\u001b[0m     success, message \u001b[39m=\u001b[39m \u001b[39mself\u001b[39;49m\u001b[39m.\u001b[39;49m_step_impl()\n\u001b[0;32m    183\u001b[0m     \u001b[39mif\u001b[39;00m \u001b[39mnot\u001b[39;00m success:\n\u001b[0;32m    184\u001b[0m         \u001b[39mself\u001b[39m\u001b[39m.\u001b[39mstatus \u001b[39m=\u001b[39m \u001b[39m'\u001b[39m\u001b[39mfailed\u001b[39m\u001b[39m'\u001b[39m\n",
      "File \u001b[1;32mc:\\Users\\tengw\\AppData\\Local\\Programs\\Python\\Python311\\Lib\\site-packages\\scipy\\integrate\\_ivp\\rk.py:144\u001b[0m, in \u001b[0;36mRungeKutta._step_impl\u001b[1;34m(self)\u001b[0m\n\u001b[0;32m    141\u001b[0m h \u001b[39m=\u001b[39m t_new \u001b[39m-\u001b[39m t\n\u001b[0;32m    142\u001b[0m h_abs \u001b[39m=\u001b[39m np\u001b[39m.\u001b[39mabs(h)\n\u001b[1;32m--> 144\u001b[0m y_new, f_new \u001b[39m=\u001b[39m rk_step(\u001b[39mself\u001b[39;49m\u001b[39m.\u001b[39;49mfun, t, y, \u001b[39mself\u001b[39;49m\u001b[39m.\u001b[39;49mf, h, \u001b[39mself\u001b[39;49m\u001b[39m.\u001b[39;49mA,\n\u001b[0;32m    145\u001b[0m                        \u001b[39mself\u001b[39;49m\u001b[39m.\u001b[39;49mB, \u001b[39mself\u001b[39;49m\u001b[39m.\u001b[39;49mC, \u001b[39mself\u001b[39;49m\u001b[39m.\u001b[39;49mK)\n\u001b[0;32m    146\u001b[0m scale \u001b[39m=\u001b[39m atol \u001b[39m+\u001b[39m np\u001b[39m.\u001b[39mmaximum(np\u001b[39m.\u001b[39mabs(y), np\u001b[39m.\u001b[39mabs(y_new)) \u001b[39m*\u001b[39m rtol\n\u001b[0;32m    147\u001b[0m error_norm \u001b[39m=\u001b[39m \u001b[39mself\u001b[39m\u001b[39m.\u001b[39m_estimate_error_norm(\u001b[39mself\u001b[39m\u001b[39m.\u001b[39mK, h, scale)\n",
      "File \u001b[1;32mc:\\Users\\tengw\\AppData\\Local\\Programs\\Python\\Python311\\Lib\\site-packages\\scipy\\integrate\\_ivp\\rk.py:64\u001b[0m, in \u001b[0;36mrk_step\u001b[1;34m(fun, t, y, f, h, A, B, C, K)\u001b[0m\n\u001b[0;32m     62\u001b[0m \u001b[39mfor\u001b[39;00m s, (a, c) \u001b[39min\u001b[39;00m \u001b[39menumerate\u001b[39m(\u001b[39mzip\u001b[39m(A[\u001b[39m1\u001b[39m:], C[\u001b[39m1\u001b[39m:]), start\u001b[39m=\u001b[39m\u001b[39m1\u001b[39m):\n\u001b[0;32m     63\u001b[0m     dy \u001b[39m=\u001b[39m np\u001b[39m.\u001b[39mdot(K[:s]\u001b[39m.\u001b[39mT, a[:s]) \u001b[39m*\u001b[39m h\n\u001b[1;32m---> 64\u001b[0m     K[s] \u001b[39m=\u001b[39m fun(t \u001b[39m+\u001b[39m c \u001b[39m*\u001b[39m h, y \u001b[39m+\u001b[39m dy)\n\u001b[0;32m     66\u001b[0m y_new \u001b[39m=\u001b[39m y \u001b[39m+\u001b[39m h \u001b[39m*\u001b[39m np\u001b[39m.\u001b[39mdot(K[:\u001b[39m-\u001b[39m\u001b[39m1\u001b[39m]\u001b[39m.\u001b[39mT, B)\n\u001b[0;32m     67\u001b[0m f_new \u001b[39m=\u001b[39m fun(t \u001b[39m+\u001b[39m h, y_new)\n",
      "\u001b[1;31mKeyboardInterrupt\u001b[0m: "
     ]
    }
   ],
   "source": [
    "timespan=np.arange(0,3000.1,.1)\n",
    "Abun=np.zeros((len(etas),repeat,NumSpecies))\n",
    "\n",
    "lambdaa=-0.4+0.8*np.random.rand(NumSpecies)\n",
    "mu=np.multiply(mu0,1+lambdaa)\n",
    "gamma=np.zeros((NumSpecies,NumSpecies))\n",
    "NumNiche=7#min(int(NumSpecies*np.random.rand()+2),int(NumSpecies/2))\n",
    "II=np.zeros(NumNiche)\n",
    "for i in np.arange(1,NumNiche,1):\n",
    "    II[i]=np.random.rand()\n",
    "II=np.sort(II)\n",
    "Tape=np.zeros(NumSpecies)\n",
    "for i in range(NumSpecies):\n",
    "    temp=np.random.rand()\n",
    "    for j in range(len(II)):\n",
    "        if temp>=II[j]:\n",
    "            Tape[i]=j\n",
    "\n",
    "NN=np.random.rand(NumSpecies)\n",
    "Nm=np.zeros(NumSpecies)\n",
    "for i in range(NumSpecies):\n",
    "    Nm[i]=NN[int(Tape[i])]\n",
    "for i in range(NumSpecies):\n",
    "    #for j in np.arange(i,NumSpecies,1):\n",
    "    for j in range(NumSpecies):\n",
    "        if i==j:\n",
    "            gamma[i,j]=-1\n",
    "        else:\n",
    "            if Tape[i]==Tape[j]:\n",
    "                gamma[i,j]=-1.05\n",
    "\n",
    "for i in range(len(etas)):\n",
    "    eta=etas[i]\n",
    "    for hjk in range(repeat):\n",
    "        print(i*repeat+hjk)\n",
    "        initial=np.zeros(NumSpecies**2+NumSpecies)\n",
    "        for j in range(NumSpecies):\n",
    "            initial[j]=np.random.rand()#*2/NumSpecies\n",
    "            initial[NumSpecies+j*NumSpecies+j]=initial[j]          \n",
    "        sol=solve_ivp(MultiSpecies,[0,max(timespan)],initial,method='RK45',t_eval=timespan)\n",
    "        y=np.transpose(sol.y)\n",
    "        temp=y[-1,range(NumSpecies)]\n",
    "        Abun[i,hjk,:]=temp"
   ]
  },
  {
   "cell_type": "code",
   "execution_count": null,
   "metadata": {},
   "outputs": [],
   "source": [
    "thresh=0.02\n",
    "AbunTot=np.zeros((len(etas),repeat,NumSpecies))\n",
    "for i in range(len(etas)):\n",
    "    for j in range(repeat):\n",
    "        for k in range(NumSpecies):\n",
    "            AbunTot[i,j,k]=np.divide(Abun[i,j,k],np.sum(Abun[i,j,:]))\n",
    "Index=np.zeros((len(etas),repeat))\n",
    "Index[0,0]=1\n",
    "Index[1,0]=1\n",
    "for i in range(len(etas)):\n",
    "    for j in np.arange(1,repeat,1):\n",
    "        tempj=Abun[i,j,:]\n",
    "        pin=0\n",
    "        for k in range(j):\n",
    "            tempk=Abun[i,k,:]\n",
    "            tttt=tempj-tempk\n",
    "            dis=np.sqrt(sum(np.multiply(tttt,tttt)))\n",
    "            if dis<thresh:\n",
    "                Index[i,j]=Index[i,k]\n",
    "                pin=1\n",
    "        if pin==0:\n",
    "            Index[i,j]=max(Index[i,:])+1\n",
    "    "
   ]
  },
  {
   "cell_type": "code",
   "execution_count": null,
   "metadata": {},
   "outputs": [
    {
     "data": {
      "image/png": "[encoded data removed]",
      "text/plain": [
       "<Figure size 500x300 with 1 Axes>"
      ]
     },
     "metadata": {},
     "output_type": "display_data"
    }
   ],
   "source": [
    "plt.figure(figsize=(5,3))\n",
    "temp0=AbunTot[0,:,:]\n",
    "II0=np.argsort(Index[0,:])\n",
    "temp1=temp0[II0,:]\n",
    "for i in range(NumSpecies):\n",
    "    if i==0:\n",
    "        plt.bar(np.arange(0,repeat,1),temp1[:,i])\n",
    "    if i>0:\n",
    "        plt.bar(np.arange(0,repeat,1),temp1[:,i],bottom=np.sum(temp1[:,range(i)],axis=1))\n",
    "plt.xlim(-0.5,repeat-0.5)\n",
    "plt.savefig('NicheExample_NoHGT.pdf')\n",
    "plt.show()"
   ]
  },
  {
   "cell_type": "code",
   "execution_count": null,
   "metadata": {},
   "outputs": [
    {
     "data": {
      "image/png": "[encoded data removed]",
      "text/plain": [
       "<Figure size 500x300 with 1 Axes>"
      ]
     },
     "metadata": {},
     "output_type": "display_data"
    }
   ],
   "source": [
    "plt.figure(figsize=(5,3))\n",
    "temp2=AbunTot[1,:,:]\n",
    "II1=np.argsort(Index[1,:])\n",
    "temp3=temp2[II1,:]\n",
    "for i in range(NumSpecies):\n",
    "    if i==0:\n",
    "        plt.bar(np.arange(0,repeat,1),temp3[:,i])\n",
    "    if i>0:\n",
    "        plt.bar(np.arange(0,repeat,1),temp3[:,i],bottom=np.sum(temp3[:,range(i)],axis=1))\n",
    "plt.xlim(-0.5,repeat-0.5)\n",
    "plt.savefig('NicheExample_HGT.pdf')\n",
    "plt.show()\n",
    "import pandas as pd\n",
    "df1=pd.DataFrame(AbunTot[0,:,:])\n",
    "df1.to_csv(\"AbundanceWithoutHGT.csv\")\n",
    "df2=pd.DataFrame(AbunTot[1,:,:])\n",
    "df2.to_csv(\"AbundanceWithHGT.csv\")"
   ]
  },
  {
   "cell_type": "code",
   "execution_count": null,
   "metadata": {},
   "outputs": [
    {
     "name": "stdout",
     "output_type": "stream",
     "text": [
      "[[0. 0.]\n",
      " [0. 0.]]\n",
      "[0. 0.]\n",
      "[0. 1.]\n",
      "[[0. 1.]\n",
      " [0. 0.]]\n"
     ]
    }
   ],
   "source": [
    "c=np.zeros((2,2))\n",
    "print(c)\n",
    "a=c[0,:]\n",
    "print(a)\n",
    "a[1]=1\n",
    "print(a)\n",
    "print(c)\n"
   ]
  },
  {
   "cell_type": "code",
   "execution_count": null,
   "metadata": {},
   "outputs": [
    {
     "name": "stdout",
     "output_type": "stream",
     "text": [
      "0.6531781983750636\n"
     ]
    }
   ],
   "source": [
    "print(1-D/mu[1])"
   ]
  }
 ],
 "metadata": {
  "kernelspec": {
   "display_name": "Python 3",
   "language": "python",
   "name": "python3"
  },
  "language_info": {
   "codemirror_mode": {
    "name": "ipython",
    "version": 3
   },
   "file_extension": ".py",
   "mimetype": "text/x-python",
   "name": "python",
   "nbconvert_exporter": "python",
   "pygments_lexer": "ipython3",
   "version": "3.11.3"
  }
 },
 "nbformat": 4,
 "nbformat_minor": 2
}
